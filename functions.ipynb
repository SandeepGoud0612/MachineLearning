{
 "cells": [
  {
   "cell_type": "code",
   "execution_count": 13,
   "metadata": {},
   "outputs": [],
   "source": [
    "def welcome(name):\n",
    "    return 'hello, ' + name"
   ]
  },
  {
   "cell_type": "code",
   "execution_count": 22,
   "metadata": {},
   "outputs": [
    {
     "name": "stdout",
     "output_type": "stream",
     "text": [
      "40\n",
      "30\n"
     ]
    }
   ],
   "source": [
    "x = 10\n",
    "def sum():\n",
    "    global x\n",
    "    x = 30\n",
    "    y = x + 10\n",
    "    \n",
    "    \n",
    "    \n",
    "    print(y)\n",
    "sum()\n",
    "print(x)"
   ]
  },
  {
   "cell_type": "code",
   "execution_count": 24,
   "metadata": {},
   "outputs": [
    {
     "name": "stdout",
     "output_type": "stream",
     "text": [
      "5\n",
      "11\n"
     ]
    }
   ],
   "source": [
    "add_func = lambda a, b : a + b\n",
    "print(add_func(2,3))\n",
    "print(add_func(5,6))"
   ]
  },
  {
   "cell_type": "code",
   "execution_count": 26,
   "metadata": {},
   "outputs": [
    {
     "name": "stdout",
     "output_type": "stream",
     "text": [
      "[5, 17, 43, 237, 133, 21]\n",
      "[5, 80, 50]\n"
     ]
    }
   ],
   "source": [
    "original_list = [5, 17, 32, 43, 12, 62, 237, 133, 78, 21, 80, 50]\n",
    "odd_numbers = list(filter(lambda x: (x % 2 != 0), original_list))\n",
    "print(odd_numbers)\n",
    "multiples_five = list(filter(lambda y: (y % 5 == 0), original_list))\n",
    "print(multiples_five)"
   ]
  },
  {
   "cell_type": "code",
   "execution_count": 31,
   "metadata": {},
   "outputs": [
    {
     "name": "stdout",
     "output_type": "stream",
     "text": [
      "[10, 34, 64, 86, 24, 124, 474, 266, 156, 42, 160, 100]\n"
     ]
    }
   ],
   "source": [
    "original_list = [5, 17, 32, 43, 12, 62, 237, 133, 78, 21, 80, 50]\n",
    "double_nubers = list(map(lambda x: x * 2, original_list))\n",
    "print(double_nubers)"
   ]
  },
  {
   "cell_type": "code",
   "execution_count": 32,
   "metadata": {},
   "outputs": [
    {
     "name": "stdout",
     "output_type": "stream",
     "text": [
      "['Analytics', 'Vidhya', 'King', 'South', 'East']\n"
     ]
    }
   ],
   "source": [
    "original_list = ['analytics', 'vidhya', 'king', 'south', 'east']\n",
    "capital_first = list(map(lambda s: s[0].upper()+s[1:], original_list))\n",
    "print(capital_first)"
   ]
  },
  {
   "cell_type": "code",
   "execution_count": 33,
   "metadata": {},
   "outputs": [
    {
     "name": "stdout",
     "output_type": "stream",
     "text": [
      "45\n"
     ]
    }
   ],
   "source": [
    "from functools import reduce\n",
    "original_list = [1,2,3,4,5,6,7,8,9]\n",
    "sum_of_list = reduce(lambda x, y : x + y, original_list)\n",
    "print(sum_of_list)"
   ]
  },
  {
   "cell_type": "code",
   "execution_count": 35,
   "metadata": {},
   "outputs": [
    {
     "name": "stdout",
     "output_type": "stream",
     "text": [
      "9\n"
     ]
    }
   ],
   "source": [
    "original_list = [4, 3, 5, 8, 2, 1, 9, 6]\n",
    "largest_number = reduce(lambda x, y : x if x > y else y, original_list)\n",
    "print(largest_number)"
   ]
  },
  {
   "cell_type": "code",
   "execution_count": 46,
   "metadata": {},
   "outputs": [
    {
     "name": "stdout",
     "output_type": "stream",
     "text": [
      "Hand Shake of 1 and 2\n",
      "Hand Shake of 1 and 3\n",
      "Hand Shake of 1 and 4\n",
      "Hand Shake of 1 and 5\n",
      "Hand Shake of 2 and 3\n",
      "Hand Shake of 2 and 4\n",
      "Hand Shake of 2 and 5\n",
      "Hand Shake of 3 and 4\n",
      "Hand Shake of 3 and 5\n",
      "Hand Shake of 4 and 5\n",
      "Total number of handshakes: 10\n"
     ]
    }
   ],
   "source": [
    "def count_hand_shakes_iterative(total_persons_in_room):\n",
    "    count = 0\n",
    "    for i in range(1, total_persons_in_room):\n",
    "        for j in range(i+1, total_persons_in_room+1):\n",
    "            print('Hand Shake of {0} and {1}'.format(i, j))\n",
    "            count += 1\n",
    "    print('Total number of handshakes: {0}'.format(count))\n",
    "count_hand_shakes_iterative(5)"
   ]
  },
  {
   "cell_type": "code",
   "execution_count": 49,
   "metadata": {},
   "outputs": [
    {
     "data": {
      "text/plain": [
       "10"
      ]
     },
     "execution_count": 49,
     "metadata": {},
     "output_type": "execute_result"
    }
   ],
   "source": [
    "def count_hand_shake(total_persons_in_room):\n",
    "    \n",
    "    if total_persons_in_room == 2:\n",
    "        return 1\n",
    "    else:\n",
    "        return count_hand_shake(total_persons_in_room - 1) + (total_persons_in_room - 1)\n",
    "    \n",
    "count_hand_shake(5)"
   ]
  },
  {
   "cell_type": "code",
   "execution_count": 48,
   "metadata": {},
   "outputs": [
    {
     "data": {
      "text/plain": [
       "45"
      ]
     },
     "execution_count": 48,
     "metadata": {},
     "output_type": "execute_result"
    }
   ],
   "source": [
    "count_hand_shake(10)"
   ]
  }
 ],
 "metadata": {
  "kernelspec": {
   "display_name": "Python 3",
   "language": "python",
   "name": "python3"
  },
  "language_info": {
   "codemirror_mode": {
    "name": "ipython",
    "version": 3
   },
   "file_extension": ".py",
   "mimetype": "text/x-python",
   "name": "python",
   "nbconvert_exporter": "python",
   "pygments_lexer": "ipython3",
   "version": "3.7.6"
  }
 },
 "nbformat": 4,
 "nbformat_minor": 4
}
